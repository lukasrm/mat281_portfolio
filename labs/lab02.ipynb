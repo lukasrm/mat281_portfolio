{
 "cells": [
  {
   "cell_type": "markdown",
   "metadata": {},
   "source": [
    "# Laboratorio 2"
   ]
  },
  {
   "cell_type": "code",
   "execution_count": 1,
   "metadata": {},
   "outputs": [],
   "source": [
    "import numpy as np\n",
    "from scipy import linalg"
   ]
  },
  {
   "cell_type": "markdown",
   "metadata": {},
   "source": [
    "## Ejercicio 1\n",
    "\n",
    "Dados dos NumPy array, `x` e `y` unidimensionales, construye su matriz de Cauchy `C`tal que \n",
    "\n",
    "(1 punto)\n",
    "\n",
    "$$\n",
    "    c_{ij} = \\frac{1}{x_i - y_j}\n",
    "$$"
   ]
  },
  {
   "cell_type": "code",
   "execution_count": 2,
   "metadata": {},
   "outputs": [],
   "source": [
    "def cauchy_matrix(x, y):\n",
    "    m = x.shape[0]\n",
    "    n = y.shape[0]\n",
    "    C = np.empty(shape=(m, n))\n",
    "    for i in range(m): # recorre dimensiones de x #\n",
    "        for j in range(n):# recorre dimensiones de y #\n",
    "            C[i,j] = 1/(x[i]-y[j]) # agrega términos a C #\n",
    "    return C"
   ]
  },
  {
   "cell_type": "code",
   "execution_count": 3,
   "metadata": {},
   "outputs": [
    {
     "data": {
      "text/plain": [
       "array([[0.1       , 0.11111111, 0.125     , 0.14285714, 0.16666667],\n",
       "       [0.05      , 0.05263158, 0.05555556, 0.05882353, 0.0625    ],\n",
       "       [0.03333333, 0.03448276, 0.03571429, 0.03703704, 0.03846154],\n",
       "       [0.025     , 0.02564103, 0.02631579, 0.02702703, 0.02777778],\n",
       "       [0.02      , 0.02040816, 0.02083333, 0.0212766 , 0.02173913],\n",
       "       [0.01666667, 0.01694915, 0.01724138, 0.01754386, 0.01785714],\n",
       "       [0.01428571, 0.01449275, 0.01470588, 0.01492537, 0.01515152],\n",
       "       [0.0125    , 0.01265823, 0.01282051, 0.01298701, 0.01315789],\n",
       "       [0.01111111, 0.01123596, 0.01136364, 0.01149425, 0.01162791],\n",
       "       [0.01      , 0.01010101, 0.01020408, 0.01030928, 0.01041667]])"
      ]
     },
     "execution_count": 3,
     "metadata": {},
     "output_type": "execute_result"
    }
   ],
   "source": [
    "x = np.arange(10, 101, 10)\n",
    "y = np.arange(5)\n",
    "cauchy_matrix(x, y)"
   ]
  },
  {
   "cell_type": "markdown",
   "metadata": {},
   "source": [
    "## Ejercicio 2\n",
    "\n",
    "(1 punto)\n",
    "\n",
    "Implementa la multiplicación matricial a través de dos ciclos `for`. Verifica que tu implementación está correcta y luego compara los tiempos de tu implementación versus la de NumPy."
   ]
  },
  {
   "cell_type": "code",
   "execution_count": 4,
   "metadata": {},
   "outputs": [],
   "source": [
    "def my_mul(A, B):\n",
    "    m, n = A.shape\n",
    "    p, q = B.shape\n",
    "    if n != p:\n",
    "        raise ValueError(\"Las dimensiones de las matrices no calzan!\")\n",
    "    C = np.empty(shape = (m, q)) # la dimensión son las filas de a y las columnas de b #\n",
    "    for i in range (m): # FIX ME #\n",
    "        for j in range (q): # FIX ME #\n",
    "            C[i, j] = np.sum(A[i, :] * B[:, j]) # suma de elementos de filas de A por columnas de B #\n",
    "    return C"
   ]
  },
  {
   "cell_type": "code",
   "execution_count": 5,
   "metadata": {},
   "outputs": [
    {
     "data": {
      "text/plain": [
       "array([[120., 130., 140., 150.],\n",
       "       [320., 355., 390., 425.],\n",
       "       [520., 580., 640., 700.]])"
      ]
     },
     "execution_count": 5,
     "metadata": {},
     "output_type": "execute_result"
    }
   ],
   "source": [
    "A = np.arange(15).reshape(-1, 5)\n",
    "B = np.arange(20).reshape(5, -1)\n",
    "my_mul(A, B)"
   ]
  },
  {
   "cell_type": "code",
   "execution_count": 6,
   "metadata": {},
   "outputs": [
    {
     "data": {
      "text/plain": [
       "True"
      ]
     },
     "execution_count": 6,
     "metadata": {},
     "output_type": "execute_result"
    }
   ],
   "source": [
    "# Validation\n",
    "np.allclose(my_mul(A, B), A @ B)"
   ]
  },
  {
   "cell_type": "code",
   "execution_count": 7,
   "metadata": {},
   "outputs": [
    {
     "name": "stdout",
     "output_type": "stream",
     "text": [
      "199 µs ± 5.64 µs per loop (mean ± std. dev. of 7 runs, 1000 loops each)\n"
     ]
    }
   ],
   "source": [
    "%%timeit\n",
    "my_mul(A, B)"
   ]
  },
  {
   "cell_type": "code",
   "execution_count": 8,
   "metadata": {},
   "outputs": [
    {
     "name": "stdout",
     "output_type": "stream",
     "text": [
      "2.73 µs ± 103 ns per loop (mean ± std. dev. of 7 runs, 100000 loops each)\n"
     ]
    }
   ],
   "source": [
    "%%timeit\n",
    "A @ B"
   ]
  },
  {
   "cell_type": "markdown",
   "metadata": {},
   "source": [
    "## Ejercicio 3\n",
    "\n",
    "(1 punto)\n",
    "\n",
    "Crea una función que imprima todos los bloques contiguos de tamaño $3 \\times 3$ para una matriz de $5 \\times 5$.\n",
    "Hint: Deben ser 9 bloques!"
   ]
  },
  {
   "cell_type": "code",
   "execution_count": 9,
   "metadata": {},
   "outputs": [],
   "source": [
    "def three_times_three_blocks(A):\n",
    "    m, n = A.shape\n",
    "    counter = 1\n",
    "    for i in range (m-2): \n",
    "        for j in range (n-2): \n",
    "            block = A[i:i+3, j:j+3] #\n",
    "            print(f\"Block {counter}:\")\n",
    "            print(block)\n",
    "            print(\"\\n\")\n",
    "            counter += 1"
   ]
  },
  {
   "cell_type": "code",
   "execution_count": 10,
   "metadata": {},
   "outputs": [
    {
     "data": {
      "text/plain": [
       "array([[ 1,  2,  3,  4,  5],\n",
       "       [ 6,  7,  8,  9, 10],\n",
       "       [11, 12, 13, 14, 15],\n",
       "       [16, 17, 18, 19, 20],\n",
       "       [21, 22, 23, 24, 25]])"
      ]
     },
     "execution_count": 10,
     "metadata": {},
     "output_type": "execute_result"
    }
   ],
   "source": [
    "A = np.arange(1, 26).reshape(5, 5)\n",
    "A"
   ]
  },
  {
   "cell_type": "code",
   "execution_count": 11,
   "metadata": {},
   "outputs": [
    {
     "name": "stdout",
     "output_type": "stream",
     "text": [
      "Block 1:\n",
      "[[ 1  2  3]\n",
      " [ 6  7  8]\n",
      " [11 12 13]]\n",
      "\n",
      "\n",
      "Block 2:\n",
      "[[ 2  3  4]\n",
      " [ 7  8  9]\n",
      " [12 13 14]]\n",
      "\n",
      "\n",
      "Block 3:\n",
      "[[ 3  4  5]\n",
      " [ 8  9 10]\n",
      " [13 14 15]]\n",
      "\n",
      "\n",
      "Block 4:\n",
      "[[ 6  7  8]\n",
      " [11 12 13]\n",
      " [16 17 18]]\n",
      "\n",
      "\n",
      "Block 5:\n",
      "[[ 7  8  9]\n",
      " [12 13 14]\n",
      " [17 18 19]]\n",
      "\n",
      "\n",
      "Block 6:\n",
      "[[ 8  9 10]\n",
      " [13 14 15]\n",
      " [18 19 20]]\n",
      "\n",
      "\n",
      "Block 7:\n",
      "[[11 12 13]\n",
      " [16 17 18]\n",
      " [21 22 23]]\n",
      "\n",
      "\n",
      "Block 8:\n",
      "[[12 13 14]\n",
      " [17 18 19]\n",
      " [22 23 24]]\n",
      "\n",
      "\n",
      "Block 9:\n",
      "[[13 14 15]\n",
      " [18 19 20]\n",
      " [23 24 25]]\n",
      "\n",
      "\n"
     ]
    }
   ],
   "source": [
    "three_times_three_blocks(A)"
   ]
  },
  {
   "cell_type": "markdown",
   "metadata": {},
   "source": [
    "## Ejercicio 4\n",
    "\n",
    "(1 punto)\n",
    "\n",
    "Has tu propio implementación de la matriz de Hilbert de orden $n$ y luego compara los tiempos de ejecución versus la función [`scipy.linalg.hilbert`](https://docs.scipy.org/doc/scipy/reference/generated/scipy.linalg.hilbert.html#scipy.linalg.hilbert). Finalmente, verifica que la inversa de tu implementación (utilizando `linalg.inv`) es idéntica a la obtenida con la función [`scipy.linalg.invhilbert`](https://docs.scipy.org/doc/scipy/reference/generated/scipy.linalg.invhilbert.html#scipy.linalg.invhilbert)."
   ]
  },
  {
   "cell_type": "code",
   "execution_count": 12,
   "metadata": {},
   "outputs": [],
   "source": [
    "def my_hilbert(n):\n",
    "    H = np.empty((n, n))\n",
    "    for i in range(n): \n",
    "        for j in range(n):\n",
    "            H[i,j] = 1 / ((i + 1) + (j + 1) - 1) # agrega términos a H, sumando 1 porque el range parte de 0 #\n",
    "    return H"
   ]
  },
  {
   "cell_type": "code",
   "execution_count": 13,
   "metadata": {},
   "outputs": [
    {
     "data": {
      "text/plain": [
       "True"
      ]
     },
     "execution_count": 13,
     "metadata": {},
     "output_type": "execute_result"
    }
   ],
   "source": [
    "n = 5\n",
    "np.allclose(my_hilbert(n), linalg.hilbert(n))"
   ]
  },
  {
   "cell_type": "code",
   "execution_count": 14,
   "metadata": {},
   "outputs": [
    {
     "name": "stdout",
     "output_type": "stream",
     "text": [
      "19.6 µs ± 687 ns per loop (mean ± std. dev. of 7 runs, 10000 loops each)\n"
     ]
    }
   ],
   "source": [
    "%timeit my_hilbert(n)"
   ]
  },
  {
   "cell_type": "code",
   "execution_count": 15,
   "metadata": {},
   "outputs": [
    {
     "name": "stdout",
     "output_type": "stream",
     "text": [
      "46.6 µs ± 3.71 µs per loop (mean ± std. dev. of 7 runs, 10000 loops each)\n"
     ]
    }
   ],
   "source": [
    "%timeit linalg.hilbert(n)"
   ]
  },
  {
   "cell_type": "code",
   "execution_count": 16,
   "metadata": {},
   "outputs": [
    {
     "data": {
      "text/plain": [
       "True"
      ]
     },
     "execution_count": 16,
     "metadata": {},
     "output_type": "execute_result"
    }
   ],
   "source": [
    "# Verificacion inversas\n",
    "\n",
    "np.allclose(linalg.inv(my_hilbert(n)), linalg.invhilbert(n))"
   ]
  },
  {
   "cell_type": "markdown",
   "metadata": {},
   "source": [
    "Vuelve a probar pero con $n=10$. ¿Cambia algo? ¿Por qué podría ser?"
   ]
  },
  {
   "cell_type": "code",
   "execution_count": 20,
   "metadata": {},
   "outputs": [
    {
     "data": {
      "text/plain": [
       "True"
      ]
     },
     "execution_count": 20,
     "metadata": {},
     "output_type": "execute_result"
    }
   ],
   "source": [
    "n = 10\n",
    "np.allclose(my_hilbert(n), linalg.hilbert(n))"
   ]
  },
  {
   "cell_type": "code",
   "execution_count": 18,
   "metadata": {},
   "outputs": [
    {
     "name": "stdout",
     "output_type": "stream",
     "text": [
      "69.7 µs ± 2.56 µs per loop (mean ± std. dev. of 7 runs, 10000 loops each)\n"
     ]
    }
   ],
   "source": [
    "%timeit my_hilbert(n)"
   ]
  },
  {
   "cell_type": "code",
   "execution_count": 19,
   "metadata": {},
   "outputs": [
    {
     "name": "stdout",
     "output_type": "stream",
     "text": [
      "46.6 µs ± 1.96 µs per loop (mean ± std. dev. of 7 runs, 10000 loops each)\n"
     ]
    }
   ],
   "source": [
    "%timeit linalg.hilbert(n)"
   ]
  },
  {
   "cell_type": "code",
   "execution_count": 21,
   "metadata": {},
   "outputs": [
    {
     "data": {
      "text/plain": [
       "False"
      ]
     },
     "execution_count": 21,
     "metadata": {},
     "output_type": "execute_result"
    }
   ],
   "source": [
    "# Verificacion inversas\n",
    "linalg.invhilbert\n",
    "np.allclose(linalg.inv(my_hilbert(n)), linalg.invhilbert(n))"
   ]
  },
  {
   "cell_type": "markdown",
   "metadata": {},
   "source": [
    "__Respuesta:__  Se ve que hay problemas a la hora de comparar la inversa, esto ocurre probablemente al invertir la matriz con linalg.inv; se puede pensar que la función linalg.invhilbert calcula de forma directa los términos (sin pasar por el proceso de invertir una matriz). La misma documentación de esta función estipula que para n mayor a 14 hay problemas con los \"64-bit integer\""
   ]
  }
 ],
 "metadata": {
  "kernelspec": {
   "display_name": "Python 3",
   "language": "python",
   "name": "python3"
  },
  "language_info": {
   "codemirror_mode": {
    "name": "ipython",
    "version": 3
   },
   "file_extension": ".py",
   "mimetype": "text/x-python",
   "name": "python",
   "nbconvert_exporter": "python",
   "pygments_lexer": "ipython3",
   "version": "3.7.8"
  }
 },
 "nbformat": 4,
 "nbformat_minor": 4
}
